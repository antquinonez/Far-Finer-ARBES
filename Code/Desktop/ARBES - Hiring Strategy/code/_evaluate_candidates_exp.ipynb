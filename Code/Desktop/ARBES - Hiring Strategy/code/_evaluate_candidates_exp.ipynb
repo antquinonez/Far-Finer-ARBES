{
 "cells": [
  {
   "cell_type": "code",
   "execution_count": null,
   "metadata": {},
   "outputs": [],
   "source": [
    "import logging\n",
    "from lib.ResumeEvaluator import ResumeEvaluator\n",
    "\n",
    "\n",
    "# Configure logging\n",
    "logging.basicConfig(level=logging.DEBUG)\n",
    "logger = logging.getLogger(__name__)\n",
    "\n",
    "\n",
    "# Initialize evaluator\n",
    "evaluator = ResumeEvaluator(\n",
    "    evaluation_rules_path=\"candidate_evaluation_rules.json\",\n",
    "\n",
    "    evaluation_steps_path=\"candidate_evaluation_steps.json\",\n",
    "    output_dir=\"evaluation_results\"\n",
    ")\n",
    "\n",
    "results = evaluator.evaluate_directory(\"resumes\")\n",
    "\n",
    "# Log summary\n",
    "logger.info(f\"Processed {len(results)} resumes\")"
   ]
  }
 ],
 "metadata": {
  "kernelspec": {
   "display_name": ".venv",
   "language": "python",
   "name": "python3"
  },
  "language_info": {
   "codemirror_mode": {
    "name": "ipython",
    "version": 3
   },
   "file_extension": ".py",
   "mimetype": "text/x-python",
   "name": "python",
   "nbconvert_exporter": "python",
   "pygments_lexer": "ipython3",
   "version": "3.12.7"
  }
 },
 "nbformat": 4,
 "nbformat_minor": 2
}
