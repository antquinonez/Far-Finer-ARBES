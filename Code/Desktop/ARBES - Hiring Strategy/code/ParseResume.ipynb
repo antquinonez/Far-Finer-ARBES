{
 "cells": [
  {
   "cell_type": "code",
   "execution_count": 1,
   "metadata": {},
   "outputs": [],
   "source": [
    "import io\n",
    "import logging\n",
    "import os\n",
    "import pymupdf4llm"
   ]
  },
  {
   "cell_type": "code",
   "execution_count": 2,
   "metadata": {},
   "outputs": [],
   "source": [
    "# Set up logging\n",
    "logging.basicConfig(level=logging.DEBUG, format='%(asctime)s - %(levelname)s - %(message)s')\n",
    "logger = logging.getLogger(__name__)"
   ]
  },
  {
   "cell_type": "code",
   "execution_count": 3,
   "metadata": {},
   "outputs": [],
   "source": [
    "class ConvertResumesToText:\n",
    "    def __init__(self, dir_orig, dir_dest):\n",
    "        self.dir_orig = dir_orig\n",
    "        self.dir_dest = dir_dest\n",
    "        \n",
    "        # Create orig directory if it doesn't exist\n",
    "        os.makedirs(self.dir_orig, exist_ok=True)\n",
    "\n",
    "        # Create destination directory if it doesn't exist\n",
    "        os.makedirs(self.dir_dest, exist_ok=True)\n",
    "\n",
    "    def _get_paths(self):\n",
    "        files = []\n",
    "        try:\n",
    "            for file in os.listdir(self.dir_orig):  \n",
    "                if file.endswith((\".pdf\", \".docx\")):\n",
    "                    logger.debug(f\"Found file: {file}\")\n",
    "                    # Create full source path\n",
    "                    source_path = os.path.join(self.dir_orig, file)\n",
    "                    files.append(source_path)\n",
    "            logger.debug(f\"Files found: {files}\")\n",
    "            return files\n",
    "        except FileNotFoundError:\n",
    "            logger.error(f\"Directory not found: {self.dir_orig}\")\n",
    "            return []\n",
    "\n",
    "    def convert_files(self):\n",
    "            files = self._get_paths()\n",
    "            \n",
    "            if not files:\n",
    "                logger.warning(\"No PDF or DOCX files found to process\")\n",
    "                return\n",
    "\n",
    "            for source_path in files:\n",
    "                try:\n",
    "                    # Process the file\n",
    "                    logger.debug(f\"Processing file: {source_path}\") \n",
    "                    parsed_content = pymupdf4llm.to_markdown(source_path)\n",
    "\n",
    "                    # get file basename\n",
    "                    base_name = os.path.basename(source_path)\n",
    "\n",
    "                    # Remove the extension from the base_name\n",
    "                    base_name = os.path.splitext(base_name)[0]\n",
    "\n",
    "                    #add .txt extension to base_name\n",
    "                    file_name_text = base_name + \".txt\"\n",
    "\n",
    "                    # Create destination path with .txt extension\n",
    "                    dest_file = os.path.join(self.dir_dest, file_name_text)\n",
    "                    logger.debug(f\"Destination file: {dest_file}\")\n",
    "\n",
    "                    # Write contents to dest_file\n",
    "                    with open(dest_file, \"w\", encoding='utf-8') as f:\n",
    "                        f.write(parsed_content)\n",
    "                    logger.info(f\"Successfully converted {source_path} to {dest_file}\")\n",
    "\n",
    "                except Exception as e:\n",
    "                    logger.error(f\"Error processing {source_path}: {str(e)}\")\n",
    "                    continue\n"
   ]
  },
  {
   "cell_type": "code",
   "execution_count": 4,
   "metadata": {},
   "outputs": [],
   "source": [
    "# import argparse\n",
    "\n",
    "# def parse_arguments():\n",
    "#     \"\"\"Parse command line arguments.\"\"\"\n",
    "#     parser = argparse.ArgumentParser(\n",
    "#         description='Run notebook code from command line'\n",
    "#     )\n",
    "#     parser.add_argument(\n",
    "#         '--dir_orig',\n",
    "#         type=str,\n",
    "#         required=True,\n",
    "#         help='First parameter for the class'\n",
    "#     )\n",
    "#     parser.add_argument(\n",
    "#         '--dir_dest',\n",
    "#         type=str,\n",
    "#         required=True,\n",
    "#         help='Second parameter for the class'\n",
    "#     )\n",
    "#     return parser.parse_args()"
   ]
  },
  {
   "cell_type": "code",
   "execution_count": 5,
   "metadata": {},
   "outputs": [],
   "source": [
    "# def main():\n",
    "#     \"\"\"Main execution function.\"\"\"\n",
    "#     # Parse command line arguments\n",
    "#     args = parse_arguments()\n",
    "    \n",
    "#     try:\n",
    "#         # Initialize your class\n",
    "#         instance = ConvertResumesToText(args.param1, args.param2)\n",
    "        \n",
    "#         # Run your main logic\n",
    "#         instance.your_method()\n",
    "        \n",
    "#         logger.info(\"Processing completed successfully\")\n",
    "        \n",
    "#     except Exception as e:\n",
    "#         logger.error(f\"An error occurred: {str(e)}\")\n",
    "#         raise\n",
    "\n",
    "# if __name__ == \"__main__\":\n",
    "#     main()"
   ]
  },
  {
   "cell_type": "code",
   "execution_count": null,
   "metadata": {},
   "outputs": [],
   "source": [
    "# resumes = ConvertResumesToText(dir_orig=\"./resumes/to_proc/\", dir_dest=\"./resumes/processed/\")\n",
    "# resumes.convert_files()"
   ]
  }
 ],
 "metadata": {
  "kernelspec": {
   "display_name": ".venv",
   "language": "python",
   "name": "python3"
  },
  "language_info": {
   "codemirror_mode": {
    "name": "ipython",
    "version": 3
   },
   "file_extension": ".py",
   "mimetype": "text/x-python",
   "name": "python",
   "nbconvert_exporter": "python",
   "pygments_lexer": "ipython3",
   "version": "3.12.6"
  }
 },
 "nbformat": 4,
 "nbformat_minor": 2
}
