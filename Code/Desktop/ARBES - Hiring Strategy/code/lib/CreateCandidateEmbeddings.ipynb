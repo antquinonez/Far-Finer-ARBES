{
 "cells": [
  {
   "cell_type": "code",
   "execution_count": null,
   "metadata": {},
   "outputs": [],
   "source": [
    "from chromadb import Client, Settings as ChromaSettings\n",
    "from llama_index.core import Document, Settings\n",
    "from llama_index.core import VectorStoreIndex, StorageContext\n",
    "from llama_index.embeddings.openai import OpenAIEmbedding\n",
    "from llama_index.vector_stores.chroma import ChromaVectorStore\n",
    "from llama_index.core.query_engine import RetrieverQueryEngine\n",
    "from llama_index.core.node_parser import JSONNodeParser\n",
    "\n",
    "from typing import List, Dict\n",
    "import json\n",
    "import pandas as pd\n",
    "import logging\n",
    "\n",
    "from llama_index.embeddings.openai import OpenAIEmbedding\n",
    "from llama_index.readers.json import JSONReader\n",
    "from typing import List, Dict\n",
    "import json\n",
    "import numpy as np\n",
    "import pandas as pd\n",
    "\n",
    "from EvaluationResultsProcessor import EvaluationResultsProcessor"
   ]
  },
  {
   "cell_type": "code",
   "execution_count": null,
   "metadata": {},
   "outputs": [],
   "source": [
    "# Configure logging\n",
    "logging.basicConfig(level=logging.INFO, format='%(asctime)s - %(name)s - %(levelname)s - %(message)s')\n",
    "logger = logging.getLogger(__name__)"
   ]
  },
  {
   "cell_type": "code",
   "execution_count": null,
   "metadata": {},
   "outputs": [],
   "source": [
    "# Initialize processor\n",
    "# processor = EntitySkillsProcessor(persist_dir='../entity_skills_db', force_reset=False, delete_entity_names=['Alice Chen','Carol Wong'])\n",
    "# processor = EntitySkillsProcessor(persist_dir='../entity_skills_db', force_reset=False)\n",
    "\n",
    "processor = EvaluationResultsProcessor(delete_entity_names=['Antonio Quinonez'])\n",
    "\n",
    "# processor = EvaluationResultsProcessor()\n",
    "processor.process_files()\n"
   ]
  }
 ],
 "metadata": {
  "kernelspec": {
   "display_name": ".venv",
   "language": "python",
   "name": "python3"
  },
  "language_info": {
   "codemirror_mode": {
    "name": "ipython",
    "version": 3
   },
   "file_extension": ".py",
   "mimetype": "text/x-python",
   "name": "python",
   "nbconvert_exporter": "python",
   "pygments_lexer": "ipython3",
   "version": "3.12.7"
  }
 },
 "nbformat": 4,
 "nbformat_minor": 2
}
