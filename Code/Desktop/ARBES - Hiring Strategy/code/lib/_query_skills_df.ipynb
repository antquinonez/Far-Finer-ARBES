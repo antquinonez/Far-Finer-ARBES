{
 "cells": [
  {
   "cell_type": "code",
   "execution_count": null,
   "metadata": {},
   "outputs": [],
   "source": [
    "from chromadb.utils.embedding_functions import OpenAIEmbeddingFunction\n",
    "from dotenv import load_dotenv\n",
    "import chromadb\n",
    "import json\n",
    "import os\n",
    "import sys\n",
    "import pandas as pd\n",
    "\n",
    "from json_utils import *\n",
    "from skills_query import *\n",
    "from _jd1 import *\n",
    "import system_instructions_query_skills"
   ]
  },
  {
   "cell_type": "code",
   "execution_count": null,
   "metadata": {},
   "outputs": [],
   "source": [
    "pd.set_option('display.max_columns', None)\n",
    "pd.set_option('display.max_rows', None)\n",
    "pd.set_option('display.width', None)\n",
    "pd.set_option('display.max_colwidth', None)"
   ]
  },
  {
   "cell_type": "code",
   "execution_count": null,
   "metadata": {},
   "outputs": [],
   "source": [
    "system_instructions = system_instructions_query_skills.system_instructions\n",
    "jd = jd1\n",
    "\n",
    "# sys.path.append(os.path.abspath(os.path.join(os.getcwd(), '../lib/AI')))\n",
    "# sys.path.append(os.path.abspath(os.path.join(os.getcwd(), '..', '../lib/AI')))\n",
    "# sys.path.append(os.path.abspath(os.path.join(os.getcwd(), '..', '..', '../lib/AI')))\n",
    "sys.path.append(os.path.abspath(os.path.join(os.getcwd(), '..', '..', '..', '../lib/AI')))\n",
    "\n",
    "# print sys path\n",
    "print(sys.path)\n",
    "\n"
   ]
  },
  {
   "cell_type": "code",
   "execution_count": null,
   "metadata": {},
   "outputs": [],
   "source": [
    "from FFAnthropic import FFAnthropic\n",
    "\n",
    "ai = FFAnthropic(system_instructions=system_instructions, model='claude-3-5-sonnet-20240620')\n",
    "\n",
    "prompt = f\"\"\"\n",
    "Please create JSON for this job Description:\n",
    "\n",
    "===============\n",
    "JOB DESCRIPTION\n",
    "===============\n",
    "{jd}\n",
    ")\n",
    "\"\"\"\n",
    "\n",
    "response = ai.generate_response(prompt)\n",
    "skills_to_query = response_to_py(response)\n",
    "skills_to_query"
   ]
  },
  {
   "cell_type": "code",
   "execution_count": null,
   "metadata": {},
   "outputs": [],
   "source": [
    "# Create the skills matrix\n",
    "skills_df = create_skills_matrix(skills_to_query)\n",
    "skills_df"
   ]
  },
  {
   "cell_type": "code",
   "execution_count": null,
   "metadata": {},
   "outputs": [],
   "source": [
    "summary_skills_df = summarize_create_skills_matrix(skills_df)\n",
    "summary_skills_df"
   ]
  },
  {
   "cell_type": "code",
   "execution_count": null,
   "metadata": {},
   "outputs": [],
   "source": [
    "skill_skill_df = create_skills_skill_matrix(skills_to_query)\n",
    "skill_skill_df"
   ]
  },
  {
   "cell_type": "code",
   "execution_count": null,
   "metadata": {},
   "outputs": [],
   "source": [
    "scored_df = calculate_scores(skills_df)\n",
    "scored_df"
   ]
  },
  {
   "cell_type": "code",
   "execution_count": null,
   "metadata": {},
   "outputs": [],
   "source": [
    "skills_distances_df = create_skills_matrix_with_distances(skills_to_query)\n",
    "skills_distances_df"
   ]
  }
 ],
 "metadata": {
  "kernelspec": {
   "display_name": ".venv",
   "language": "python",
   "name": "python3"
  },
  "language_info": {
   "codemirror_mode": {
    "name": "ipython",
    "version": 3
   },
   "file_extension": ".py",
   "mimetype": "text/x-python",
   "name": "python",
   "nbconvert_exporter": "python",
   "pygments_lexer": "ipython3",
   "version": "3.12.7"
  }
 },
 "nbformat": 4,
 "nbformat_minor": 2
}
